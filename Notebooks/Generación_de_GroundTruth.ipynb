{
  "cells": [
    {
      "cell_type": "markdown",
      "source": [
        "# 1. Lista de documentos NGS"
      ],
      "metadata": {
        "id": "06kAe8Tsth_L"
      }
    },
    {
      "cell_type": "code",
      "execution_count": null,
      "metadata": {
        "id": "uet0HwNKvyRm"
      },
      "outputs": [],
      "source": [
        "import os\n",
        "import pandas as pd\n",
        "import json"
      ]
    },
    {
      "cell_type": "code",
      "execution_count": null,
      "metadata": {
        "id": "6q9dppeUvyRo"
      },
      "outputs": [],
      "source": [
        "basePath = \"/content/drive/MyDrive/UTEC/Ciclo IV/Tesis II/NGS documentos/Foundation/Documentos\"\n",
        "contenido = os.listdir(basePath)"
      ]
    },
    {
      "cell_type": "code",
      "execution_count": null,
      "metadata": {
        "colab": {
          "base_uri": "https://localhost:8080/"
        },
        "id": "1dclk025vyRq",
        "outputId": "9dab6c5b-5396-4bb1-f5d0-36fc26a36820"
      },
      "outputs": [
        {
          "output_type": "stream",
          "name": "stdout",
          "text": [
            "0 Foundation_0.pdf\n",
            "1 Foundation_1.pdf\n",
            "2 Foundation_2.pdf\n",
            "3 Foundation_3.pdf\n",
            "4 Foundation_4.pdf\n",
            "5 Foundation_5.pdf\n",
            "6 Foundation_6.pdf\n",
            "7 Foundation_7.pdf\n",
            "8 Foundation_8.pdf\n",
            "9 Foundation_9.pdf\n",
            "10 Foundation_10.pdf\n",
            "11 Foundation_11.pdf\n",
            "12 Foundation_12.pdf\n",
            "13 Foundation_13.pdf\n",
            "14 Foundation_14.pdf\n",
            "15 Foundation_15.pdf\n",
            "16 Foundation_16.pdf\n",
            "17 Foundation_17.pdf\n",
            "18 Foundation_18.pdf\n",
            "19 Foundation_19.pdf\n",
            "20 Foundation_20.pdf\n",
            "21 Foundation_21.pdf\n",
            "22 Foundation_22.pdf\n",
            "23 Foundation_23.pdf\n",
            "24 Foundation_24.pdf\n",
            "25 Foundation_25.pdf\n",
            "26 Foundation_26.pdf\n",
            "27 Foundation_27.pdf\n",
            "28 Foundation_28.pdf\n",
            "29 Foundation_29.pdf\n",
            "30 Foundation_30.pdf\n",
            "31 Foundation_31.pdf\n",
            "32 Foundation_32.pdf\n",
            "33 Foundation_33.pdf\n",
            "34 Foundation_34.pdf\n",
            "35 Foundation_35.pdf\n",
            "36 Foundation_36.pdf\n",
            "37 Foundation_37.pdf\n",
            "38 Foundation_38.pdf\n",
            "39 Foundation_39.pdf\n",
            "40 Foundation_40.pdf\n",
            "41 Foundation_41.pdf\n",
            "42 Foundation_42.pdf\n",
            "43 Foundation_43.pdf\n",
            "44 Foundation_44.pdf\n",
            "45 Foundation_45.pdf\n",
            "46 Foundation_46.pdf\n",
            "47 Foundation_47.pdf\n",
            "48 Foundation_48.pdf\n",
            "49 Foundation_49.pdf\n",
            "50 Foundation_50.pdf\n",
            "51 Foundation_51.pdf\n",
            "52 Foundation_52.pdf\n",
            "53 Foundation_53.pdf\n",
            "54 Foundation_54.pdf\n",
            "55 Foundation_55.pdf\n",
            "56 Foundation_56.pdf\n"
          ]
        }
      ],
      "source": [
        "## Recorrido de documentos.\n",
        "for index ,value in enumerate(contenido):\n",
        "  print(index, value)"
      ]
    },
    {
      "cell_type": "markdown",
      "source": [
        "#2. Configurción general"
      ],
      "metadata": {
        "id": "ReQzpU3gvyRq"
      }
    },
    {
      "cell_type": "markdown",
      "source": [
        "##2.1 Guardar JSON"
      ],
      "metadata": {
        "id": "JDGdFI6IwVgu"
      }
    },
    {
      "cell_type": "code",
      "source": [
        "import json\n",
        "def guardar_json(data,nombre):\n",
        "  with open(nombre, 'w') as outfile:\n",
        "    json.dump(data, outfile)"
      ],
      "metadata": {
        "id": "-r_hvizgvyRr"
      },
      "execution_count": null,
      "outputs": []
    },
    {
      "cell_type": "markdown",
      "source": [
        "##2.2 Definición de campos"
      ],
      "metadata": {
        "id": "Tsu-TSH-wYfq"
      }
    },
    {
      "cell_type": "code",
      "execution_count": null,
      "metadata": {
        "id": "sVlNyX2nwiKm"
      },
      "outputs": [],
      "source": [
        "field_array = [\"Finding genomic\",\"Biomakers\"]\n",
        "biomaker_table = [\"Therapist suggested by NGS\",\"Therapist suggested by NGS in other\"]\n",
        "\n",
        "field_VINCI_array = [\"NGS Service Type\",\n",
        "\"Specimen Site\",\n",
        "\"Specimen Collection Date\",\n",
        "\"Completion Test Date - Report Date\",\n",
        "\"Finding genomic\",\n",
        "\"Biomakers\",\n",
        "\"Biomakers Therapist question\"]\n",
        "\n",
        "field_NGS_array = [\"Specimen Type\",\n",
        "\"Specimen Site\",\n",
        "\"Date of Collection\",\n",
        "\"Report Date\",\n",
        "\"Genomic Findings\",\n",
        "\"Biomakers findings\",\n",
        "\"Listado de Terapias\"]\n",
        "fields_diccionario = dict()\n",
        "\n",
        "for i  in range(len(field_VINCI_array)):\n",
        "  fields_diccionario[field_VINCI_array[i]] = field_NGS_array[i]"
      ]
    },
    {
      "cell_type": "markdown",
      "source": [
        "#3. Recolección de GroundTruth"
      ],
      "metadata": {
        "id": "z3qG5pnYuP8N"
      }
    },
    {
      "cell_type": "code",
      "execution_count": null,
      "metadata": {
        "id": "k2H9N7zrwiKp"
      },
      "outputs": [],
      "source": [
        "def insert_ground_Truth_NGS(cantidad):\n",
        "  ground_truth = []\n",
        "  for i in range(cantidad):\n",
        "    inputs_diccionario = dict()\n",
        "    print(\"REGISTRO NGS Nro {}\".format(i+1))\n",
        "    document_name = input(\"NOMBRE: \")\n",
        "    inputs_diccionario[\"document\"] = document_name\n",
        "\n",
        "    for key in fields_diccionario:\n",
        "      cantidad = 0\n",
        "      if key in field_array :\n",
        "\n",
        "        cant = int(input(\"ELEMENTOS (cantidad) \"+ key +  \" : \"))\n",
        "        lista_fields = list()\n",
        "\n",
        "        for i in range(cant):\n",
        "          table_dict = dict()\n",
        "          value = input(\"\\t\"+key +\" \"+ str(i+1)+ \" : \")\n",
        "          table_dict[\"Name\"] = value;\n",
        "\n",
        "          cant_clinical = int(input(\"CLINICAL(cantidad) \"+ key +  \" : \"))\n",
        "          clinical_array = list()\n",
        "          for j in range(cant_clinical):\n",
        "            clinical_value = input( \"\\t\\t\"+\"CLINICAL \"+ str(j+1)+ \" : \")\n",
        "            clinical_array.append(clinical_value)\n",
        "          table_dict[\"Clinical\"] = clinical_array;\n",
        "\n",
        "          cant_NO_clinical = int(input(\"NO CLINICAL(cantidad) \"+ key +  \" : \"))\n",
        "          no_clinical_array = list()\n",
        "          for j in range(cant_NO_clinical):\n",
        "            no_clinical_value = input( \"\\t\\t\"+\"NO CLINICAL \"+ str(j+1)+ \" : \")\n",
        "            no_clinical_array.append(no_clinical_value)\n",
        "\n",
        "          table_dict[\"No Clinical\"] = no_clinical_array;\n",
        "\n",
        "          lista_fields.append(table_dict)\n",
        "\n",
        "        inputs_diccionario[fields_diccionario[key]] = lista_fields\n",
        "\n",
        "\n",
        "      else:\n",
        "        value = input(key + \" : \")\n",
        "        inputs_diccionario[fields_diccionario[key]] = value\n",
        "\n",
        "    ground_truth.append(inputs_diccionario)\n",
        "  return ground_truth"
      ]
    },
    {
      "cell_type": "code",
      "source": [
        "cantidad = int(input(\"Ingresar la cantidad de registros: \"))\n",
        "ngs_diccionario_array = insert_ground_Truth_NGS(cantidad)"
      ],
      "metadata": {
        "id": "rv3hl-SUxW3Y"
      },
      "execution_count": null,
      "outputs": []
    },
    {
      "cell_type": "code",
      "source": [
        "for item in ngs_diccionario_array:\n",
        "  print(item)"
      ],
      "metadata": {
        "id": "b0FSf33MyBgI"
      },
      "execution_count": null,
      "outputs": []
    },
    {
      "cell_type": "code",
      "source": [
        "guardar_json(ngs_diccionario_array, \"GT_51_56.json\")"
      ],
      "metadata": {
        "id": "14qH_erdxx7x"
      },
      "execution_count": null,
      "outputs": []
    }
  ],
  "metadata": {
    "colab": {
      "provenance": [],
      "collapsed_sections": [
        "MryDaCdsGcdF",
        "UVabgnHMohFe",
        "kvlusEZj_Lz1"
      ]
    },
    "kernelspec": {
      "display_name": "Python 3",
      "name": "python3"
    },
    "language_info": {
      "name": "python"
    }
  },
  "nbformat": 4,
  "nbformat_minor": 0
}